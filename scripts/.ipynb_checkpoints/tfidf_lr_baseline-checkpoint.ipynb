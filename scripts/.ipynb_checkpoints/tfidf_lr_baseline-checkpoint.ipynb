{
 "cells": [
  {
   "cell_type": "code",
   "execution_count": 2,
   "id": "b031da0f-c98d-482b-a203-9b845c31a16f",
   "metadata": {},
   "outputs": [],
   "source": [
    "import pandas as pd\n",
    "import numpy as np\n",
    "from sklearn.feature_extraction.text import TfidfVectorizer\n",
    "from sklearn.linear_model import LogisticRegression\n",
    "from sklearn.multiclass import OneVsRestClassifier\n",
    "from sklearn.model_selection import train_test_split\n",
    "from sklearn.metrics import f1_score\n",
    "from sklearn.preprocessing import MultiLabelBinarizer\n",
    "import pickle"
   ]
  },
  {
   "cell_type": "code",
   "execution_count": 12,
   "id": "04d47dc3-b5e8-4581-ad24-12296800b57a",
   "metadata": {},
   "outputs": [],
   "source": [
    "# baseline/tfidf_lr_baseline.py\n",
    "\n",
    "class TFIDF_LR_Classifier:\n",
    "    def __init__(self, max_features=50000, ngram_range=(1,2), C=1.0):\n",
    "        self.vectorizer = TfidfVectorizer(max_features=max_features, ngram_range=ngram_range)\n",
    "        self.model = OneVsRestClassifier(LogisticRegression(C=C, solver='liblinear'))\n",
    "        self.mlb = MultiLabelBinarizer()\n",
    "\n",
    "    def fit(self, texts, labels):\n",
    "        print(\"Fitting TF-IDF vectorizer...\")\n",
    "        X = self.vectorizer.fit_transform(texts)\n",
    "        Y = self.mlb.fit_transform(labels)\n",
    "        print(\"Training Logistic Regression...\")\n",
    "        self.model.fit(X, Y)\n",
    "\n",
    "    def predict(self, texts):\n",
    "        X = self.vectorizer.transform(texts)\n",
    "        Y_pred = self.model.predict(X)\n",
    "        return self.mlb.inverse_transform(Y_pred)\n",
    "\n",
    "    def predict_proba(self, texts):\n",
    "        X = self.vectorizer.transform(texts)\n",
    "        Y_scores = self.model.predict_proba(X)\n",
    "        return Y_scores\n",
    "\n",
    "    def evaluate(self, texts, labels):\n",
    "        X = self.vectorizer.transform(texts)\n",
    "        Y_true = self.mlb.transform(labels)\n",
    "        Y_pred = self.model.predict(X)\n",
    "        micro = f1_score(Y_true, Y_pred, average='micro')\n",
    "        macro = f1_score(Y_true, Y_pred, average='macro')\n",
    "        return {'micro_f1': micro, 'macro_f1': macro}\n",
    "\n",
    "    def save(self, path_prefix):\n",
    "        with open(path_prefix + '_vectorizer.pkl', 'wb') as f:\n",
    "            pickle.dump(self.vectorizer, f)\n",
    "        with open(path_prefix + '_model.pkl', 'wb') as f:\n",
    "            pickle.dump(self.model, f)\n",
    "        with open(path_prefix + '_mlb.pkl', 'wb') as f:\n",
    "            pickle.dump(self.mlb, f)\n",
    "\n",
    "    def load(self, path_prefix):\n",
    "        with open(path_prefix + '_vectorizer.pkl', 'rb') as f:\n",
    "            self.vectorizer = pickle.load(f)\n",
    "        with open(path_prefix + '_model.pkl', 'rb') as f:\n",
    "            self.model = pickle.load(f)\n",
    "        with open(path_prefix + '_mlb.pkl', 'rb') as f:\n",
    "            self.mlb = pickle.load(f)\n"
   ]
  },
  {
   "cell_type": "code",
   "execution_count": null,
   "id": "b6eb99da-fcbd-418f-95dc-f81a99953c18",
   "metadata": {},
   "outputs": [
    {
     "name": "stdout",
     "output_type": "stream",
     "text": [
      "Fitting TF-IDF vectorizer...\n",
      "Training Logistic Regression...\n"
     ]
    }
   ],
   "source": [
    "import pandas as pd\n",
    "from sklearn.model_selection import train_test_split\n",
    "\n",
    "# 加载数据\n",
    "df = pd.read_pickle('../data/mimic3_data_test.pkl')\n",
    "texts = df['TEXT'].tolist()\n",
    "labels = df['ICD9_CODE'].tolist()\n",
    "\n",
    "# 划分训练/验证集\n",
    "X_train, X_val, y_train, y_val = train_test_split(texts, labels, test_size=0.2, random_state=42)\n",
    "\n",
    "# 初始化与训练模型\n",
    "clf = TFIDF_LR_Classifier(max_features=10000, ngram_range=(1,2), C=1.0)\n",
    "clf.fit(X_train, y_train)\n",
    "\n",
    "# 评估\n",
    "results = clf.evaluate(X_val, y_val)\n",
    "print(\"Validation Micro-F1:\", results['micro_f1'])\n",
    "print(\"Validation Macro-F1:\", results['macro_f1'])\n",
    "\n",
    "# 可选：保存模型\n",
    "clf.save('models/tfidf_lr_baseline')\n"
   ]
  },
  {
   "cell_type": "code",
   "execution_count": null,
   "id": "d5b28a26-f3d1-4e37-b367-7cd1e70cd730",
   "metadata": {},
   "outputs": [],
   "source": []
  }
 ],
 "metadata": {
  "kernelspec": {
   "display_name": "Python (ribonn)",
   "language": "python",
   "name": "ribonn"
  },
  "language_info": {
   "codemirror_mode": {
    "name": "ipython",
    "version": 3
   },
   "file_extension": ".py",
   "mimetype": "text/x-python",
   "name": "python",
   "nbconvert_exporter": "python",
   "pygments_lexer": "ipython3",
   "version": "3.9.21"
  }
 },
 "nbformat": 4,
 "nbformat_minor": 5
}
