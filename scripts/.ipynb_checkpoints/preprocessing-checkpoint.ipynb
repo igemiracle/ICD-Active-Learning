{
 "cells": [
  {
   "cell_type": "code",
   "execution_count": 2,
   "id": "2eedf9dc-640e-4d0d-bb9b-610dfe14c6a7",
   "metadata": {},
   "outputs": [],
   "source": [
    "import pandas as pd\n",
    "import numpy as np\n",
    "import gzip\n",
    "import pickle\n",
    "import os\n",
    "from tqdm import tqdm"
   ]
  },
  {
   "cell_type": "code",
   "execution_count": 8,
   "id": "585e69f8-c16b-4a0e-942b-3ac77aadbf8e",
   "metadata": {},
   "outputs": [
    {
     "name": "stdout",
     "output_type": "stream",
     "text": [
      "Loading MIMIC-III files...\n",
      "Loading notes from ../data/NOTEEVENTS.csv\n"
     ]
    },
    {
     "name": "stderr",
     "output_type": "stream",
     "text": [
      "/var/folders/96/2s64979965l0x1hmvz6rctxh0000gp/T/ipykernel_45080/3224987054.py:10: DtypeWarning: Columns (4,5) have mixed types. Specify dtype option on import or set low_memory=False.\n",
      "  notes = pd.read_csv(\n"
     ]
    },
    {
     "name": "stdout",
     "output_type": "stream",
     "text": [
      "Loading diagnoses from ../data/DIAGNOSES_ICD.csv\n",
      "Extracting discharge summaries...\n",
      "Found 52726 discharge summaries\n",
      "Aggregating ICD-9 codes for each admission...\n",
      "Merging data...\n",
      "Final dataset size: 52726 admissions\n",
      "Saving processed data to ../data/mimic3_data.pkl\n",
      "\n",
      "Sample data:\n",
      "HADM_ID: 118464\n",
      "SUBJECT_ID: 82574\n",
      "Number of ICD codes: 17\n",
      "Text length: 13656 characters\n",
      "\n",
      "First few ICD codes:\n",
      "['4589', '28411', '1985', '19889', '6826']\n",
      "\n",
      "Text snippet:\n",
      "Admission Date:  [**2100-6-7**]              Discharge Date:   [**2100-6-9**]\n",
      "\n",
      "Date of Birth:  [**2044-4-23**]             Sex:   M\n",
      "\n",
      "Service: MEDICINE\n",
      "\n",
      "Allergies:\n",
      "No Known Allergies / Adverse Drug Rea...\n",
      "\n",
      "Dataset statistics:\n",
      "Average number of ICD codes per admission: 11.74\n",
      "Min number of ICD codes: 1\n",
      "Max number of ICD codes: 39\n",
      "Text length statistics:\n",
      "Average text length: 9759.75 characters\n",
      "Min text length: 54 characters\n",
      "Max text length: 55728 characters\n"
     ]
    }
   ],
   "source": [
    "# Define paths\n",
    "data_path = '../data/'  # Adjust this path as needed\n",
    "output_file = os.path.join(data_path, 'mimic3_data.pkl')\n",
    "# 1. Load necessary files\n",
    "print(\"Loading MIMIC-III files...\")\n",
    "\n",
    "# Load NOTEEVENTS - contains clinical notes including discharge summaries\n",
    "notes_file = os.path.join(data_path, 'NOTEEVENTS.csv')\n",
    "print(f\"Loading notes from {notes_file}\")\n",
    "notes = pd.read_csv(\n",
    "    notes_file,\n",
    "    dtype={'HADM_ID': 'str', 'SUBJECT_ID': 'str'}\n",
    ")\n",
    "\n",
    "# Load DIAGNOSES_ICD - contains ICD-9 codes for each admission\n",
    "diag_file = os.path.join(data_path, 'DIAGNOSES_ICD.csv')\n",
    "print(f\"Loading diagnoses from {diag_file}\")\n",
    "diagnoses = pd.read_csv(\n",
    "    diag_file,\n",
    "    dtype={'HADM_ID': 'str', 'SUBJECT_ID': 'str', 'ICD9_CODE': 'str'}\n",
    ")\n",
    "\n",
    "# 2. Extract discharge summaries\n",
    "print(\"Extracting discharge summaries...\")\n",
    "discharge_notes = notes[notes['CATEGORY'] == 'Discharge summary']\n",
    "\n",
    "# Keep only the most recent discharge summary for each admission (HADM_ID)\n",
    "discharge_notes = discharge_notes.sort_values(by=['CHARTDATE', 'CHARTTIME'])\n",
    "discharge_notes = discharge_notes.drop_duplicates(subset=['HADM_ID'], keep='last')\n",
    "\n",
    "print(f\"Found {len(discharge_notes)} discharge summaries\")\n",
    "\n",
    "# 3. Aggregate ICD-9 codes for each admission\n",
    "print(\"Aggregating ICD-9 codes for each admission...\")\n",
    "diagnoses_grouped = diagnoses.groupby('HADM_ID')['ICD9_CODE'].apply(list).reset_index()\n",
    "\n",
    "# 4. Merge discharge summaries with diagnoses\n",
    "print(\"Merging data...\")\n",
    "merged_data = pd.merge(\n",
    "    discharge_notes[['HADM_ID', 'SUBJECT_ID', 'TEXT']],\n",
    "    diagnoses_grouped,\n",
    "    on='HADM_ID',\n",
    "    how='inner'\n",
    ")\n",
    "\n",
    "print(f\"Final dataset size: {len(merged_data)} admissions\")\n",
    "\n",
    "# 5. Save processed data\n",
    "print(f\"Saving processed data to {output_file}\")\n",
    "merged_data.to_pickle(output_file)\n",
    "\n",
    "# Display sample data\n",
    "print(\"\\nSample data:\")\n",
    "sample = merged_data.head(1)\n",
    "print(f\"HADM_ID: {sample['HADM_ID'].values[0]}\")\n",
    "print(f\"SUBJECT_ID: {sample['SUBJECT_ID'].values[0]}\")\n",
    "print(f\"Number of ICD codes: {len(sample['ICD9_CODE'].values[0])}\")\n",
    "print(f\"Text length: {len(sample['TEXT'].values[0])} characters\")\n",
    "print(\"\\nFirst few ICD codes:\")\n",
    "print(sample['ICD9_CODE'].values[0][:5])\n",
    "print(\"\\nText snippet:\")\n",
    "print(sample['TEXT'].values[0][:200] + \"...\")\n",
    "\n",
    "# 6. Summary statistics\n",
    "print(\"\\nDataset statistics:\")\n",
    "icd_counts = merged_data['ICD9_CODE'].apply(len)\n",
    "print(f\"Average number of ICD codes per admission: {icd_counts.mean():.2f}\")\n",
    "print(f\"Min number of ICD codes: {icd_counts.min()}\")\n",
    "print(f\"Max number of ICD codes: {icd_counts.max()}\")\n",
    "print(f\"Text length statistics:\")\n",
    "text_lengths = merged_data['TEXT'].apply(len)\n",
    "print(f\"Average text length: {text_lengths.mean():.2f} characters\")\n",
    "print(f\"Min text length: {text_lengths.min()} characters\")\n",
    "print(f\"Max text length: {text_lengths.max()} characters\")"
   ]
  },
  {
   "cell_type": "code",
   "execution_count": null,
   "id": "f524e07b-5117-47fa-aa61-f797558e5370",
   "metadata": {},
   "outputs": [],
   "source": []
  }
 ],
 "metadata": {
  "kernelspec": {
   "display_name": "Python (ribonn)",
   "language": "python",
   "name": "ribonn"
  },
  "language_info": {
   "codemirror_mode": {
    "name": "ipython",
    "version": 3
   },
   "file_extension": ".py",
   "mimetype": "text/x-python",
   "name": "python",
   "nbconvert_exporter": "python",
   "pygments_lexer": "ipython3",
   "version": "3.9.21"
  }
 },
 "nbformat": 4,
 "nbformat_minor": 5
}
