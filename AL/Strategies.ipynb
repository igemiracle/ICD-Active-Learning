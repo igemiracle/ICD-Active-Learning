{
 "cells": [
  {
   "cell_type": "markdown",
   "id": "cbe0be44-886a-4a7d-b392-65d8cf5d0dfe",
   "metadata": {},
   "source": [
    "This file is used to define all kinds of active learning strategies for simple models and deep learning models. Functions here can be invoked to select the instances in active learning."
   ]
  },
  {
   "cell_type": "code",
   "execution_count": 2,
   "id": "f05e6d90-4712-4b63-b080-9579887de5f9",
   "metadata": {},
   "outputs": [],
   "source": [
    "from sklearn.cluster import KMeans\n",
    "import numpy as np"
   ]
  },
  {
   "cell_type": "code",
   "execution_count": 4,
   "id": "04813aff-6553-49c6-b4f4-6156963a85a8",
   "metadata": {},
   "outputs": [],
   "source": [
    "def diversity_sampling_kmeans(embeddings, batch_size=1, n_clusters=1, mode='random'):\n",
    "    \"\"\"\n",
    "    embeddings: np.array shape (n_samples, n_features)\n",
    "    mode: 'random' | 'centroid' | 'border'\n",
    "    return: list of selected sample indices\n",
    "    \"\"\"\n",
    "    kmeans = KMeans(n_clusters=n_clusters, random_state=0).fit(embeddings)\n",
    "    clusters = kmeans.labels_\n",
    "    centers = kmeans.cluster_centers_\n",
    "\n",
    "    selected_idx = []\n",
    "\n",
    "    for i in range(n_clusters):\n",
    "        cluster_indices = np.where(clusters == i)[0]\n",
    "        if len(cluster_indices) == 0:\n",
    "            continue\n",
    "\n",
    "        if mode == 'random':\n",
    "            idx = np.random.choice(cluster_indices, 1)[0]\n",
    "        elif mode == 'centroid':\n",
    "            cluster_points = embeddings[cluster_indices]\n",
    "            dists = np.linalg.norm(cluster_points - centers[i], axis=1)\n",
    "            idx = cluster_indices[np.argmin(dists)]\n",
    "        elif mode == 'border':\n",
    "            cluster_points = embeddings[cluster_indices]\n",
    "            dists = np.linalg.norm(cluster_points - centers[i], axis=1)\n",
    "            idx = cluster_indices[np.argmax(dists)]\n",
    "\n",
    "        selected_idx.append(idx)\n",
    "\n",
    "    # Compensate with random selected idx if # selected idx < batch size\n",
    "    while len(selected_idx) < batch_size:\n",
    "        candidates = list(set(range(len(embeddings))) - set(selected_idx))\n",
    "        selected_idx.append(np.random.choice(candidates))\n",
    "\n",
    "    return selected_idx[:batch_size]"
   ]
  },
  {
   "cell_type": "code",
   "execution_count": null,
   "id": "f94100c4-c9d8-4373-b616-acde16689980",
   "metadata": {},
   "outputs": [],
   "source": []
  }
 ],
 "metadata": {
  "kernelspec": {
   "display_name": "Python [conda env:base] *",
   "language": "python",
   "name": "conda-base-py"
  },
  "language_info": {
   "codemirror_mode": {
    "name": "ipython",
    "version": 3
   },
   "file_extension": ".py",
   "mimetype": "text/x-python",
   "name": "python",
   "nbconvert_exporter": "python",
   "pygments_lexer": "ipython3",
   "version": "3.12.7"
  }
 },
 "nbformat": 4,
 "nbformat_minor": 5
}
